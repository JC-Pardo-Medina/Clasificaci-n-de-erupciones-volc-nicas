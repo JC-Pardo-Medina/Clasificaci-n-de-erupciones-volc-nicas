{
 "cells": [
  {
   "cell_type": "markdown",
   "id": "c47cbf77",
   "metadata": {},
   "source": [
    "Importo las librerías"
   ]
  },
  {
   "cell_type": "code",
   "execution_count": 207,
   "id": "350d1654",
   "metadata": {},
   "outputs": [],
   "source": [
    "import bamboolib as bam\n",
    "import pandas as pd\n",
    "import matplotlib.pyplot as plt\n",
    "import seaborn as sns\n",
    "import statsmodels.api as sm\n",
    "import numpy as np\n",
    "from sklearn.model_selection import train_test_split\n",
    "from sklearn.ensemble import RandomForestClassifier\n",
    "from sklearn.model_selection import GridSearchCV\n",
    "import sklearn.metrics\n",
    "from sklearn.decomposition import PCA\n",
    "from sklearn.model_selection import LeaveOneOut\n",
    "from sklearn.metrics import confusion_matrix, accuracy_score, roc_auc_score, f1_score, recall_score, precision_score\n",
    "from sklearn.model_selection import RandomizedSearchCV\n",
    "from sklearn.model_selection import cross_val_score\n",
    "from sklearn.metrics import make_scorer\n",
    "from sklearn.model_selection import KFold\n",
    "import statistics\n",
    "from sklearn.metrics import roc_curve"
   ]
  },
  {
   "cell_type": "markdown",
   "id": "3f5c31a0",
   "metadata": {},
   "source": [
    "Cargo el dataset"
   ]
  },
  {
   "cell_type": "code",
   "execution_count": 208,
   "id": "65b05d3f",
   "metadata": {},
   "outputs": [],
   "source": [
    "df = pd.read_csv(\"jm_train.csv\")"
   ]
  },
  {
   "cell_type": "markdown",
   "id": "a7896ae6",
   "metadata": {},
   "source": [
    "Visualizo el dataset de diferentes formas"
   ]
  },
  {
   "cell_type": "code",
   "execution_count": 209,
   "id": "b2b25caa",
   "metadata": {},
   "outputs": [
    {
     "data": {
      "image/png": "[encoded data removed]",
      "text/plain": [
       "<Figure size 576x432 with 1 Axes>"
      ]
     },
     "metadata": {
      "needs_background": "light"
     },
     "output_type": "display_data"
    },
    {
     "data": {
      "image/png": "[encoded data removed]",
      "text/plain": [
       "<Figure size 576x432 with 1 Axes>"
      ]
     },
     "metadata": {
      "needs_background": "light"
     },
     "output_type": "display_data"
    }
   ],
   "source": [
    "#df\n",
    "# for column in df.columns:\n",
    "#     for col in df.columns:\n",
    "#         sns.scatterplot(data=df, x=column, y=col, hue = \"target\")\n",
    "#         plt.show()\n",
    "# sns.pairplot(df)\n",
    "plt.figure(figsize=(8,6))\n",
    "plt.violinplot(df.drop(\"target\",axis=1))\n",
    "plt.show()\n",
    "plt.figure(figsize=(8,6))\n",
    "plt.boxplot(df.drop(\"target\",axis=1))\n",
    "plt.show()"
   ]
  },
  {
   "cell_type": "markdown",
   "id": "bdc9f565",
   "metadata": {},
   "source": [
    "Los gráficos muestran que se encuentran todos en una escala similar, por lo que tomo la decisión de no escalar. Además, los violinplots muestran que la distribución es bastante normal y los boxplots que no hay tantos outliers, por lo tanto se toma la decisión de no normalizar."
   ]
  },
  {
   "cell_type": "markdown",
   "id": "c4720b68",
   "metadata": {},
   "source": [
    "Hago un primer modelo de Random Forest para ver qué tal serían los resultados con estos datos"
   ]
  },
  {
   "cell_type": "code",
   "execution_count": 210,
   "id": "e255a369",
   "metadata": {},
   "outputs": [],
   "source": [
    "X = df.drop(\"target\",axis=1)\n",
    "y = df[\"target\"]"
   ]
  },
  {
   "cell_type": "code",
   "execution_count": 211,
   "id": "1ca6d0ec",
   "metadata": {},
   "outputs": [
    {
     "name": "stdout",
     "output_type": "stream",
     "text": [
      "0.760204517588534\n"
     ]
    },
    {
     "data": {
      "text/plain": [
       "array([[109,   9,   7,   3,   2],\n",
       "       [  7,  85,   9,  14,   1],\n",
       "       [  9,  14,  82,  10,  16],\n",
       "       [  4,   8,   4, 105,  16],\n",
       "       [  3,   0,   7,   7,  99]], dtype=int64)"
      ]
     },
     "execution_count": 211,
     "metadata": {},
     "output_type": "execute_result"
    }
   ],
   "source": [
    "X_train, X_test, y_train, y_test = train_test_split(X, y, test_size=0.3)\n",
    "#Se usa una validación de Hold Out ya que es la más rápida\n",
    "rf = RandomForestClassifier()\n",
    "rf = rf.fit(X_train, y_train)\n",
    "yhat = rf.predict(X_test)\n",
    "#Utilizo un f1_score y una matrz de confusión para ver los resultados iniciales\n",
    "print(f1_score(y_test,yhat,average=\"macro\"))\n",
    "confusion_matrix(y_test,yhat)"
   ]
  },
  {
   "cell_type": "markdown",
   "id": "46f835d9",
   "metadata": {},
   "source": [
    "Los resultados del modelo inicial son bastante positivos así que trabajaré a partir de estos parámetros"
   ]
  },
  {
   "cell_type": "code",
   "execution_count": 212,
   "id": "9b4ab143",
   "metadata": {},
   "outputs": [
    {
     "name": "stdout",
     "output_type": "stream",
     "text": [
      "[18, 19, 16, 19, 17, 15, 16, 16, 17, 17, 18, 17, 15, 15, 18, 15, 15, 16, 19, 23, 20, 14, 17, 18, 16, 20, 14, 17, 19, 18, 18, 16, 16, 18, 14, 14, 16, 16, 18, 17, 16, 17, 15, 19, 16, 17, 15, 18, 18, 18, 15, 16, 15, 17, 18, 16, 17, 16, 15, 16, 15, 16, 16, 18, 18, 14, 16, 14, 19, 17, 15, 14, 17, 17, 17, 15, 14, 15, 15, 17, 17, 16, 19, 14, 15, 19, 16, 16, 16, 15, 18, 15, 15, 18, 17, 15, 18, 16, 15, 14]\n",
      "[292, 284, 270, 308, 307, 276, 299, 275, 270, 264, 274, 260, 284, 277, 287, 245, 265, 272, 275, 295, 275, 282, 277, 287, 276, 261, 288, 289, 283, 266, 302, 286, 291, 265, 285, 299, 286, 267, 264, 295, 293, 269, 280, 294, 287, 305, 286, 293, 298, 289, 265, 274, 288, 283, 282, 263, 269, 284, 284, 291, 277, 267, 275, 274, 267, 283, 274, 285, 301, 279, 269, 292, 274, 295, 299, 271, 274, 281, 276, 290, 277, 274, 276, 273, 276, 287, 258, 286, 295, 282, 259, 298, 257, 279, 268, 269, 284, 270, 310, 272]\n"
     ]
    }
   ],
   "source": [
    "#rf.get_params()\n",
    "print([t.get_depth() for t in rf.estimators_])\n",
    "print([t.get_n_leaves() for t in rf.estimators_])"
   ]
  },
  {
   "cell_type": "markdown",
   "id": "8ad721f1",
   "metadata": {},
   "source": [
    "Que haya más de 300 hojas en algunos de los árboles del Random Forest no es positivo y más de 20 de profundidad también es demasiado, ya que se puede estar sobreajustando a los datos de train."
   ]
  },
  {
   "cell_type": "code",
   "execution_count": 213,
   "id": "306ee56e",
   "metadata": {},
   "outputs": [
    {
     "name": "stdout",
     "output_type": "stream",
     "text": [
      "[0.77223381 0.76156041 0.80559242 0.74272033 0.78125644 0.78086058\n",
      " 0.78470396 0.78047569 0.74800664 0.75173089]\n",
      "0.018619708693321725\n"
     ]
    }
   ],
   "source": [
    "scores = cross_val_score(rf, X, y, cv=10, scoring = make_scorer(f1_score, average = \"macro\"))\n",
    "print(scores)\n",
    "print(scores.std())"
   ]
  },
  {
   "cell_type": "markdown",
   "id": "e0d9c527",
   "metadata": {},
   "source": [
    "En esta celda vamos a armar un nuevo dataframe basado en kfold que compruebe si los porcentajes de los registros en los que se equivoca son altos o no."
   ]
  },
  {
   "cell_type": "code",
   "execution_count": 214,
   "id": "7ec1f59c",
   "metadata": {},
   "outputs": [],
   "source": [
    "X = np.array(X)\n",
    "kf = KFold(n_splits=5)\n",
    "yhatlist = []\n",
    "yprobalist = []\n",
    "for train_index, test_index in kf.split(X, y):\n",
    "    X_train, X_test = X[train_index], X[test_index]\n",
    "    y_train, y_test = y[train_index], y[test_index]\n",
    "    rf = RandomForestClassifier()\n",
    "    rf = rf.fit(X_train, y_train)\n",
    "    kfoldlist.append(rf)\n",
    "    yhat = rf.predict(X_test)\n",
    "    yproba = rf.predict_proba(X_test)\n",
    "    yhatlist.extend(yhat)\n",
    "    for i in yproba:\n",
    "        maxi = max(i)\n",
    "        yprobalist.append(maxi)\n",
    "dfcomprobar[\"yreal\"] = y\n",
    "dfcomprobar[\"yhat\"] = yhatlist\n",
    "dfcomprobar[\"yproba\"] = yprobalist"
   ]
  },
  {
   "cell_type": "code",
   "execution_count": 215,
   "id": "5bf1a3ef",
   "metadata": {},
   "outputs": [
    {
     "name": "stdout",
     "output_type": "stream",
     "text": [
      "470\n",
      "325\n",
      "203\n",
      "105\n",
      "42\n"
     ]
    }
   ],
   "source": [
    "print(dfcomprobar.loc[dfcomprobar['yreal'] != dfcomprobar['yhat']].shape[0])\n",
    "print(dfcomprobar.loc[dfcomprobar['yreal'] != dfcomprobar['yhat']].loc[(dfcomprobar['yproba'] > 0.5)].shape[0])\n",
    "print(dfcomprobar.loc[dfcomprobar['yreal'] != dfcomprobar['yhat']].loc[(dfcomprobar['yproba'] > 0.6)].shape[0])\n",
    "print(dfcomprobar.loc[dfcomprobar['yreal'] != dfcomprobar['yhat']].loc[(dfcomprobar['yproba'] > 0.7)].shape[0])\n",
    "print(dfcomprobar.loc[dfcomprobar['yreal'] != dfcomprobar['yhat']].loc[(dfcomprobar['yproba'] > 0.8)].shape[0])"
   ]
  },
  {
   "cell_type": "code",
   "execution_count": 217,
   "id": "13af49ab",
   "metadata": {},
   "outputs": [
    {
     "data": {
      "text/plain": [
       "135"
      ]
     },
     "execution_count": 217,
     "metadata": {},
     "output_type": "execute_result"
    }
   ],
   "source": [
    "dfcomprobar.loc[dfcomprobar['yreal'] == dfcomprobar['yhat']].loc[(dfcomprobar['yproba'] < 0.5)].shape[0]"
   ]
  },
  {
   "cell_type": "markdown",
   "id": "6d6ef260",
   "metadata": {},
   "source": [
    "La celda de arriba nos demuestra que de los que se equivoca (469), para 334 se equivoca teniendo más de un 50 % de seguridad; para 201, más de un 60; para 94, más de un 70 y para 48 más de un 80 %. Un 80 % es estar demasiado seguro para estar equivocado, así que reduciendo la complejidad de los árboles intentaremos reducir esto. En cambio, hay 1305 de los que acierta para los que tiene menos de un 50 % de seguridad, lo cual es un dato muy negativo (porque son muchos)."
   ]
  },
  {
   "cell_type": "markdown",
   "id": "47840408",
   "metadata": {},
   "source": [
    "La desviación estándar no es muy alta. Esto sí es bueno. Aun así, intentaremos elegir un modelo "
   ]
  },
  {
   "cell_type": "code",
   "execution_count": 230,
   "id": "26228b8f",
   "metadata": {},
   "outputs": [],
   "source": [
    "params={'n_estimators': [400,500,600], #probamos con más árboles, ya que prefiero más árboles sencillos que menos overfit\n",
    "        'criterion':['gini','entropy'],\n",
    "        'max_depth': [6,7,8], #probamos mucha menos profundidad\n",
    "        'max_features': [3,4,5], #probamos usando solo parte de las variables\n",
    "        'max_leaf_nodes': [50,60,70,80], #probamos varios grupos de hojas (son muchos pero menos que en el modelo)\n",
    "        }"
   ]
  },
  {
   "cell_type": "code",
   "execution_count": 231,
   "id": "8e17e1d8",
   "metadata": {},
   "outputs": [],
   "source": [
    "X_train, X_test, y_train, y_test = train_test_split(X, y, test_size=0.3)\n",
    "clf = RandomForestClassifier()\n",
    "random_solver = RandomizedSearchCV(clf,\n",
    "                                   params,\n",
    "                                   scoring=sorted(sklearn.metrics.SCORERS.keys()),\n",
    "                                   cv = 5,\n",
    "                                   refit = \"f1\",\n",
    "                                   n_jobs=-1)\n",
    "\n",
    "model_result = random_solver.fit(X_train,y_train)"
   ]
  },
  {
   "cell_type": "code",
   "execution_count": 233,
   "id": "5f1137ae",
   "metadata": {},
   "outputs": [
    {
     "name": "stdout",
     "output_type": "stream",
     "text": [
      "0.7187666706326147\n"
     ]
    },
    {
     "data": {
      "text/plain": [
       "array([[110,  13,   6,   3,   0],\n",
       "       [ 13,  91,  10,  19,   4],\n",
       "       [  7,  15,  74,  10,  19],\n",
       "       [  4,   5,   8,  80,  16],\n",
       "       [  9,   1,   5,   8, 100]], dtype=int64)"
      ]
     },
     "execution_count": 233,
     "metadata": {},
     "output_type": "execute_result"
    }
   ],
   "source": [
    "clf = model_result.best_estimator_\n",
    "clf = clf.fit(X_train, y_train)\n",
    "yhat = clf.predict(X_test)\n",
    "print(f1_score(y_test,yhat,average=\"macro\"))\n",
    "confusion_matrix(y_test,yhat)"
   ]
  },
  {
   "cell_type": "code",
   "execution_count": 121,
   "id": "56a8f387",
   "metadata": {},
   "outputs": [
    {
     "data": {
      "text/plain": [
       "{'n_estimators': 600,\n",
       " 'max_leaf_nodes': 70,\n",
       " 'max_features': 4,\n",
       " 'max_depth': 8,\n",
       " 'criterion': 'entropy'}"
      ]
     },
     "execution_count": 121,
     "metadata": {},
     "output_type": "execute_result"
    }
   ],
   "source": [
    "model_result.best_params_"
   ]
  },
  {
   "cell_type": "markdown",
   "id": "5c9fb306",
   "metadata": {},
   "source": [
    "Aunque el f1_score es muy inferior al otro Modelo por defecto de SKlearn haremos la comprobación de antes"
   ]
  },
  {
   "cell_type": "code",
   "execution_count": 228,
   "id": "8c59e254",
   "metadata": {},
   "outputs": [],
   "source": [
    "clf = RandomForestClassifier(n_estimators= 600, max_leaf_nodes= 70, max_features= 4, max_depth= 8,criterion='entropy')\n",
    "X = np.array(X)\n",
    "kf = KFold(n_splits=5)\n",
    "kfoldlist = []\n",
    "yhatlist = []\n",
    "f1list = []\n",
    "yprobalist = []\n",
    "matrixlist = []\n",
    "dfcomprobar = pd.DataFrame()\n",
    "for train_index, test_index in kf.split(X, y):\n",
    "    X_train, X_test = X[train_index], X[test_index]\n",
    "    y_train, y_test = y[train_index], y[test_index]\n",
    "    clf = clf.fit(X_train, y_train)\n",
    "    kfoldlist.append(clf)\n",
    "    yhat = clf.predict(X_test)\n",
    "    yproba = clf.predict_proba(X_test)\n",
    "    yhatlist.extend(yhat)\n",
    "    for i in yproba:\n",
    "        maxi = max(i)\n",
    "        yprobalist.append(maxi)\n",
    "    f1list.append(f1_score(yhat,y_test,average = \"macro\"))\n",
    "dfcomprobar[\"yreal\"] = y\n",
    "dfcomprobar[\"yhat\"] = yhatlist\n",
    "dfcomprobar[\"yproba\"] = yprobalist"
   ]
  },
  {
   "cell_type": "code",
   "execution_count": 232,
   "id": "bdadcf7d",
   "metadata": {},
   "outputs": [
    {
     "data": {
      "text/plain": [
       "0.7566260656581308"
      ]
     },
     "execution_count": 232,
     "metadata": {},
     "output_type": "execute_result"
    }
   ],
   "source": [
    "statistics.mean(f1list)"
   ]
  },
  {
   "cell_type": "code",
   "execution_count": 234,
   "id": "05f74a6d",
   "metadata": {},
   "outputs": [
    {
     "name": "stdout",
     "output_type": "stream",
     "text": [
      "507\n",
      "353\n",
      "218\n",
      "106\n",
      "41\n"
     ]
    }
   ],
   "source": [
    "print(dfcomprobar.loc[dfcomprobar['yreal'] != dfcomprobar['yhat']].shape[0])\n",
    "print(dfcomprobar.loc[dfcomprobar['yreal'] != dfcomprobar['yhat']].loc[(dfcomprobar['yproba'] > 0.5)].shape[0])\n",
    "print(dfcomprobar.loc[dfcomprobar['yreal'] != dfcomprobar['yhat']].loc[(dfcomprobar['yproba'] > 0.6)].shape[0])\n",
    "print(dfcomprobar.loc[dfcomprobar['yreal'] != dfcomprobar['yhat']].loc[(dfcomprobar['yproba'] > 0.7)].shape[0])\n",
    "print(dfcomprobar.loc[dfcomprobar['yreal'] != dfcomprobar['yhat']].loc[(dfcomprobar['yproba'] > 0.8)].shape[0])"
   ]
  },
  {
   "cell_type": "code",
   "execution_count": 235,
   "id": "34282d3f",
   "metadata": {},
   "outputs": [
    {
     "data": {
      "text/plain": [
       "140"
      ]
     },
     "execution_count": 235,
     "metadata": {},
     "output_type": "execute_result"
    }
   ],
   "source": [
    "dfcomprobar.loc[dfcomprobar['yreal'] == dfcomprobar['yhat']].loc[(dfcomprobar['yproba'] < 0.5)].shape[0]\n"
   ]
  },
  {
   "cell_type": "markdown",
   "id": "2fc0dcbd",
   "metadata": {},
   "source": [
    "Como se ve, aunque hay 695 fallos. Muchos más fallos que en el otro modelo. solo está seguro de su error en más de un 50 % para 289; solo para 118 en más de un 60; solo 19 en más de un 70 y a ninguno de los que falla está seguro en más de un 80. Hay 200 que acierta en los que no está seguro en más de un 50 %. Ese dato está muy bien ya que son solo un poco más que el otro modelo."
   ]
  },
  {
   "cell_type": "markdown",
   "id": "953e54cd",
   "metadata": {},
   "source": [
    "Estos parámetros están muy bien así que vamos a hacer la predicción:"
   ]
  },
  {
   "cell_type": "code",
   "execution_count": 242,
   "id": "12b20c01",
   "metadata": {},
   "outputs": [],
   "source": [
    "X_verdadera = pd.read_csv(\"jm_X_test.csv\")"
   ]
  },
  {
   "cell_type": "markdown",
   "id": "c0e83435",
   "metadata": {},
   "source": [
    "Reentrenamos la x y la y:"
   ]
  },
  {
   "cell_type": "code",
   "execution_count": 252,
   "id": "ad2bc1e8",
   "metadata": {},
   "outputs": [],
   "source": [
    "X = df.drop(\"target\",axis=1)\n",
    "y = df[\"target\"]"
   ]
  },
  {
   "cell_type": "code",
   "execution_count": 253,
   "id": "39cf5281",
   "metadata": {},
   "outputs": [],
   "source": [
    "clf = RandomForestClassifier(n_estimators= 600, max_leaf_nodes= 70, max_features= 4, max_depth= 8,criterion='entropy')\n",
    "clf.fit(X, y)\n"
   ]
  },
  {
   "cell_type": "markdown",
   "id": "cdbb8da5",
   "metadata": {},
   "source": [
    "Y predecimos:"
   ]
  },
  {
   "cell_type": "code",
   "execution_count": 258,
   "id": "341a1d3a",
   "metadata": {},
   "outputs": [],
   "source": [
    "yhat_verdadera = pd.DataFrame(clf.predict(X_verdadera),columns=[\"yhat\"])"
   ]
  },
  {
   "cell_type": "code",
   "execution_count": 259,
   "id": "5b0f6484",
   "metadata": {},
   "outputs": [],
   "source": [
    "yhat_verdadera.to_csv(\"yhat.csv\")"
   ]
  }
 ],
 "metadata": {
  "kernelspec": {
   "display_name": "Python 3",
   "language": "python",
   "name": "python3"
  },
  "language_info": {
   "codemirror_mode": {
    "name": "ipython",
    "version": 3
   },
   "file_extension": ".py",
   "mimetype": "text/x-python",
   "name": "python",
   "nbconvert_exporter": "python",
   "pygments_lexer": "ipython3",
   "version": "3.8.8"
  }
 },
 "nbformat": 4,
 "nbformat_minor": 5
}
